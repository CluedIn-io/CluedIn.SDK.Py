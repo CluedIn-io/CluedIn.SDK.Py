{
  "cells": [
    {
      "attachments": {},
      "cell_type": "markdown",
      "metadata": {
        "id": "KOO9WrAoImCh"
      },
      "source": [
        "# CluedIn\n",
        "\n",
        "[cluedin](https://pypi.org/project/cluedin/) is a Python client for [CluedIn](https://www.cluedin.com/) API. It can help you with the following:\n",
        "\n",
        "* getting JWT access tokens to CluedIn\n",
        "* calling CluedIn REST API\n",
        "* calling CluedIn GraphQL API\n",
        "\n",
        "The use is pretty simple. First, install it from [PyPi](https://pypi.org/project/cluedin/):"
      ]
    },
    {
      "cell_type": "code",
      "execution_count": 14,
      "metadata": {
        "colab": {
          "base_uri": "https://localhost:8080/"
        },
        "id": "NvHz3dvggQfK",
        "outputId": "96d04b4b-f67f-4aab-d27e-f5a6acd903eb"
      },
      "outputs": [
        {
          "name": "stdout",
          "output_type": "stream",
          "text": [
            "Requirement already satisfied: cluedin in c:\\users\\romak\\appdata\\local\\packages\\pythonsoftwarefoundation.python.3.10_qbz5n2kfra8p0\\localcache\\local-packages\\python310\\site-packages (1.0.0)\n",
            "Requirement already satisfied: requests<3.0.0,>=2.29.0 in c:\\users\\romak\\appdata\\local\\packages\\pythonsoftwarefoundation.python.3.10_qbz5n2kfra8p0\\localcache\\local-packages\\python310\\site-packages (from cluedin) (2.30.0)\n",
            "Requirement already satisfied: charset-normalizer<4,>=2 in c:\\users\\romak\\appdata\\local\\packages\\pythonsoftwarefoundation.python.3.10_qbz5n2kfra8p0\\localcache\\local-packages\\python310\\site-packages (from requests<3.0.0,>=2.29.0->cluedin) (3.1.0)\n",
            "Requirement already satisfied: idna<4,>=2.5 in c:\\users\\romak\\appdata\\local\\packages\\pythonsoftwarefoundation.python.3.10_qbz5n2kfra8p0\\localcache\\local-packages\\python310\\site-packages (from requests<3.0.0,>=2.29.0->cluedin) (3.4)\n",
            "Requirement already satisfied: urllib3<3,>=1.21.1 in c:\\users\\romak\\appdata\\local\\packages\\pythonsoftwarefoundation.python.3.10_qbz5n2kfra8p0\\localcache\\local-packages\\python310\\site-packages (from requests<3.0.0,>=2.29.0->cluedin) (2.0.2)\n",
            "Requirement already satisfied: certifi>=2017.4.17 in c:\\users\\romak\\appdata\\local\\packages\\pythonsoftwarefoundation.python.3.10_qbz5n2kfra8p0\\localcache\\local-packages\\python310\\site-packages (from requests<3.0.0,>=2.29.0->cluedin) (2023.5.7)\n",
            "Note: you may need to restart the kernel to use updated packages.\n",
            "Requirement already satisfied: numpy in c:\\users\\romak\\appdata\\local\\packages\\pythonsoftwarefoundation.python.3.10_qbz5n2kfra8p0\\localcache\\local-packages\\python310\\site-packages (1.24.3)Note: you may need to restart the kernel to use updated packages.\n",
            "\n",
            "Requirement already satisfied: pandas in c:\\users\\romak\\appdata\\local\\packages\\pythonsoftwarefoundation.python.3.10_qbz5n2kfra8p0\\localcache\\local-packages\\python310\\site-packages (2.0.1)\n",
            "Requirement already satisfied: python-dateutil>=2.8.2 in c:\\users\\romak\\appdata\\local\\packages\\pythonsoftwarefoundation.python.3.10_qbz5n2kfra8p0\\localcache\\local-packages\\python310\\site-packages (from pandas) (2.8.2)\n",
            "Requirement already satisfied: pytz>=2020.1 in c:\\users\\romak\\appdata\\local\\packages\\pythonsoftwarefoundation.python.3.10_qbz5n2kfra8p0\\localcache\\local-packages\\python310\\site-packages (from pandas) (2023.3)\n",
            "Requirement already satisfied: tzdata>=2022.1 in c:\\users\\romak\\appdata\\local\\packages\\pythonsoftwarefoundation.python.3.10_qbz5n2kfra8p0\\localcache\\local-packages\\python310\\site-packages (from pandas) (2023.3)\n",
            "Requirement already satisfied: numpy>=1.21.0 in c:\\users\\romak\\appdata\\local\\packages\\pythonsoftwarefoundation.python.3.10_qbz5n2kfra8p0\\localcache\\local-packages\\python310\\site-packages (from pandas) (1.24.3)\n",
            "Requirement already satisfied: six>=1.5 in c:\\users\\romak\\appdata\\local\\packages\\pythonsoftwarefoundation.python.3.10_qbz5n2kfra8p0\\localcache\\local-packages\\python310\\site-packages (from python-dateutil>=2.8.2->pandas) (1.16.0)\n",
            "Note: you may need to restart the kernel to use updated packages.\n"
          ]
        }
      ],
      "source": [
        "%pip install cluedin\n",
        "%pip install numpy\n",
        "%pip install pandas"
      ]
    },
    {
      "attachments": {},
      "cell_type": "markdown",
      "metadata": {
        "id": "mX8mhNtEJsna"
      },
      "source": [
        "Next, you will need to obtain an access token:"
      ]
    },
    {
      "cell_type": "code",
      "execution_count": 15,
      "metadata": {
        "colab": {
          "base_uri": "https://localhost:8080/"
        },
        "id": "6Wk8iZdUgaY6",
        "outputId": "66360583-f8ab-4574-95d9-78d77a37d20e"
      },
      "outputs": [
        {
          "data": {
            "text/plain": [
              "{'protocol': 'http',\n",
              " 'domain': 'cluedin.local:8888',\n",
              " 'organization': 'foobar',\n",
              " 'user': 'admin@foobar.com',\n",
              " 'password': 'Foobar23!',\n",
              " 'access_token': 'eyJhbGciOiJSUzI1NiIsImtpZCI6IkVDMDMxODBDMDgyMTZEOTIyMjlEMUNDMDM3QUEzODE3IiwidHlwIjoiYXQrand0In0.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.eeFhaiE3IM2REPHCgq3YrgprsbKfSxedOp3DZk6sVdsGXjroeSXuMDsLyQwaywaJza1B0EVrJf5UoV5jiDkNUU0HZmPfVmpalEEDbo5yp9kYyaysCyw5Fr1wnxxvoNrtVCF2yOJ2yUHiblOZV00wnnE8eYwWEPh7BiRCoPKGCGGNMGPuu-1iZA8QXE05ZB0MYW5Mn6QOS8otc2clFjtSiNezPheUWpBn1ks4PB7p-OmfZJOFF2MUjrSETgTRr71_fwyHyurHUgwzPqKK4JIbe4XpckaW4lCs5lpqbS3jqpVPxCeS_AWA0xDZzQjD1jV751WmFsCqRRDmU4jHlN-XqQ'}"
            ]
          },
          "execution_count": 15,
          "metadata": {},
          "output_type": "execute_result"
        }
      ],
      "source": [
        "import cluedin\n",
        "context = {\n",
        "    \"protocol\": \"http\", # default - `https`\n",
        "    \"domain\": \"cluedin.local:8888\",\n",
        "    \"organization\": \"foobar\",\n",
        "    \"user\": \"admin@foobar.com\",\n",
        "    \"password\": \"Foobar23!\"\n",
        "}\n",
        "\n",
        "cluedin.load_token_into_context(context)\n",
        "\n",
        "context"
      ]
    },
    {
      "attachments": {},
      "cell_type": "markdown",
      "metadata": {
        "id": "R_dDXilxJ5tM"
      },
      "source": [
        "Run a GraphQL query:"
      ]
    },
    {
      "cell_type": "code",
      "execution_count": 16,
      "metadata": {
        "colab": {
          "base_uri": "https://localhost:8080/"
        },
        "id": "ZdTw1D2rJ_vY",
        "outputId": "68cf3c64-90b1-44ce-b930-9b4bf1aead62"
      },
      "outputs": [
        {
          "data": {
            "text/plain": [
              "{'data': {'search': {'totalResults': 1,\n",
              "   'cursor': 'ewAiAFAAYQBnAGUAIgA6ADEALAAiAFAAYQBnAGUAUwBpAHoAZQAiADoAMQAsACIAQwBvAG0AcABvAHMAaQB0AGUAQQBmAHQAZQByACIAOgB7AH0ALAAiAFMAZQBhAHIAYwBoAEEAZgB0AGUAcgAiADoAWwAxADYAOAAzADUANAAyADAAOQAyADIAOAAzACwAMQA2ADgAMwA1ADQAMgAwADkAMgAyADgAMwAsADEANgA4ADMANQA0ADIAMAA5ADIAMgA4ADMAXQB9AA==',\n",
              "   'entries': [{'id': '24ee44b4-3d42-50ea-8911-5cda4fe1e64f',\n",
              "     'name': 'admin@foobar.com',\n",
              "     'entityType': '/Infrastructure/User'}]}}}"
            ]
          },
          "execution_count": 16,
          "metadata": {},
          "output_type": "execute_result"
        }
      ],
      "source": [
        "query = \"\"\"\n",
        "    query searchEntities($cursor: PagingCursor, $query: String, $pageSize: Int) {\n",
        "      search(query: $query, sort: DATE, cursor: $cursor, pageSize: $pageSize) {\n",
        "        totalResults\n",
        "        cursor\n",
        "        entries {\n",
        "          id\n",
        "          name\n",
        "          entityType\n",
        "        }\n",
        "      }\n",
        "    }\n",
        "\"\"\"\n",
        "\n",
        "variables = {\n",
        "    \"query\": \"entityType:/Infrastructure/User\",\n",
        "    \"pageSize\": 1\n",
        "}\n",
        "\n",
        "response = cluedin.gql.gql(context, query, variables)\n",
        "\n",
        "response"
      ]
    },
    {
      "attachments": {},
      "cell_type": "markdown",
      "metadata": {
        "id": "sZyhbRkSSFWP"
      },
      "source": [
        "Get paged results:"
      ]
    },
    {
      "cell_type": "code",
      "execution_count": 17,
      "metadata": {
        "colab": {
          "base_uri": "https://localhost:8080/",
          "height": 488
        },
        "id": "A4rSdHs4KGkQ",
        "outputId": "336bf488-c205-4f9b-e18a-58ccce3a8513"
      },
      "outputs": [
        {
          "data": {
            "text/html": [
              "<div>\n",
              "<style scoped>\n",
              "    .dataframe tbody tr th:only-of-type {\n",
              "        vertical-align: middle;\n",
              "    }\n",
              "\n",
              "    .dataframe tbody tr th {\n",
              "        vertical-align: top;\n",
              "    }\n",
              "\n",
              "    .dataframe thead th {\n",
              "        text-align: right;\n",
              "    }\n",
              "</style>\n",
              "<table border=\"1\" class=\"dataframe\">\n",
              "  <thead>\n",
              "    <tr style=\"text-align: right;\">\n",
              "      <th></th>\n",
              "      <th>id</th>\n",
              "      <th>name</th>\n",
              "      <th>entityType</th>\n",
              "    </tr>\n",
              "  </thead>\n",
              "  <tbody>\n",
              "    <tr>\n",
              "      <th>0</th>\n",
              "      <td>dc60b862-9f3d-5ad6-91e8-4dc1c2c8b41f</td>\n",
              "      <td>Clarance Laxson</td>\n",
              "      <td>/Person</td>\n",
              "    </tr>\n",
              "    <tr>\n",
              "      <th>1</th>\n",
              "      <td>7b24617a-eb1a-51a7-af04-66bce2307c82</td>\n",
              "      <td>Phillipe Scola</td>\n",
              "      <td>/Person</td>\n",
              "    </tr>\n",
              "    <tr>\n",
              "      <th>2</th>\n",
              "      <td>b64b7e9b-1d21-522f-8a92-7f0929fc7e00</td>\n",
              "      <td>Raul Oloshkin</td>\n",
              "      <td>/Person</td>\n",
              "    </tr>\n",
              "    <tr>\n",
              "      <th>3</th>\n",
              "      <td>d79bebdf-84bc-5f40-9d64-4a546aeee41c</td>\n",
              "      <td>Celle Haycroft</td>\n",
              "      <td>/Person</td>\n",
              "    </tr>\n",
              "    <tr>\n",
              "      <th>4</th>\n",
              "      <td>a6a6847e-a85c-53c7-a451-65c155dbe830</td>\n",
              "      <td>Emelyne Margrem</td>\n",
              "      <td>/Person</td>\n",
              "    </tr>\n",
              "    <tr>\n",
              "      <th>...</th>\n",
              "      <td>...</td>\n",
              "      <td>...</td>\n",
              "      <td>...</td>\n",
              "    </tr>\n",
              "    <tr>\n",
              "      <th>929</th>\n",
              "      <td>ca2fbf84-78c1-537a-a3c1-1db5d7e6ff04</td>\n",
              "      <td>Duplicate Email</td>\n",
              "      <td>/Person</td>\n",
              "    </tr>\n",
              "    <tr>\n",
              "      <th>930</th>\n",
              "      <td>e83546c1-73bb-58fe-82cc-4e8e1662ed5b</td>\n",
              "      <td>AcceptanceCrawler</td>\n",
              "      <td>/Provider/Root</td>\n",
              "    </tr>\n",
              "    <tr>\n",
              "      <th>931</th>\n",
              "      <td>e10887dc-0e81-5979-a0c1-1146d5c34137</td>\n",
              "      <td>Child Person</td>\n",
              "      <td>/Person</td>\n",
              "    </tr>\n",
              "    <tr>\n",
              "      <th>932</th>\n",
              "      <td>24ee44b4-3d42-50ea-8911-5cda4fe1e64f</td>\n",
              "      <td>admin@foobar.com</td>\n",
              "      <td>/Infrastructure/User</td>\n",
              "    </tr>\n",
              "    <tr>\n",
              "      <th>933</th>\n",
              "      <td>5f013038-c413-59c3-8b34-65a3bcd0c620</td>\n",
              "      <td>foobar</td>\n",
              "      <td>/Organization</td>\n",
              "    </tr>\n",
              "  </tbody>\n",
              "</table>\n",
              "<p>934 rows × 3 columns</p>\n",
              "</div>"
            ],
            "text/plain": [
              "                                       id               name   \n",
              "0    dc60b862-9f3d-5ad6-91e8-4dc1c2c8b41f    Clarance Laxson  \\\n",
              "1    7b24617a-eb1a-51a7-af04-66bce2307c82     Phillipe Scola   \n",
              "2    b64b7e9b-1d21-522f-8a92-7f0929fc7e00      Raul Oloshkin   \n",
              "3    d79bebdf-84bc-5f40-9d64-4a546aeee41c     Celle Haycroft   \n",
              "4    a6a6847e-a85c-53c7-a451-65c155dbe830    Emelyne Margrem   \n",
              "..                                    ...                ...   \n",
              "929  ca2fbf84-78c1-537a-a3c1-1db5d7e6ff04    Duplicate Email   \n",
              "930  e83546c1-73bb-58fe-82cc-4e8e1662ed5b  AcceptanceCrawler   \n",
              "931  e10887dc-0e81-5979-a0c1-1146d5c34137       Child Person   \n",
              "932  24ee44b4-3d42-50ea-8911-5cda4fe1e64f   admin@foobar.com   \n",
              "933  5f013038-c413-59c3-8b34-65a3bcd0c620             foobar   \n",
              "\n",
              "               entityType  \n",
              "0                 /Person  \n",
              "1                 /Person  \n",
              "2                 /Person  \n",
              "3                 /Person  \n",
              "4                 /Person  \n",
              "..                    ...  \n",
              "929               /Person  \n",
              "930        /Provider/Root  \n",
              "931               /Person  \n",
              "932  /Infrastructure/User  \n",
              "933         /Organization  \n",
              "\n",
              "[934 rows x 3 columns]"
            ]
          },
          "execution_count": 17,
          "metadata": {},
          "output_type": "execute_result"
        }
      ],
      "source": [
        "import numpy as np\n",
        "import pandas as pd\n",
        "\n",
        "query = \"\"\"\n",
        "    query searchEntities($cursor: PagingCursor, $query: String, $pageSize: Int) {\n",
        "      search(query: $query, sort: DATE, cursor: $cursor, pageSize: $pageSize) {\n",
        "        totalResults\n",
        "        cursor\n",
        "        entries {\n",
        "          id\n",
        "          name\n",
        "          entityType\n",
        "        }\n",
        "      }\n",
        "    }\n",
        "\"\"\"\n",
        "\n",
        "variables = {\n",
        "    \"query\": \"*\",\n",
        "    \"pageSize\": 10000\n",
        "}\n",
        "\n",
        "entries = np.array([x for x in cluedin.gql.entries(context, query, variables)])\n",
        "\n",
        "df = pd.DataFrame(entries.tolist(), columns=list(entries[0].keys()))\n",
        "df"
      ]
    }
  ],
  "metadata": {
    "colab": {
      "provenance": []
    },
    "kernelspec": {
      "display_name": "Python 3",
      "name": "python3"
    },
    "language_info": {
      "codemirror_mode": {
        "name": "ipython",
        "version": 3
      },
      "file_extension": ".py",
      "mimetype": "text/x-python",
      "name": "python",
      "nbconvert_exporter": "python",
      "pygments_lexer": "ipython3",
      "version": "3.10.11"
    }
  },
  "nbformat": 4,
  "nbformat_minor": 0
}
