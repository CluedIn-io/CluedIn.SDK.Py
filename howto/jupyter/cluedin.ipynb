{
  "cells": [
    {
      "attachments": {},
      "cell_type": "markdown",
      "metadata": {
        "id": "KOO9WrAoImCh"
      },
      "source": [
        "# CluedIn\n",
        "\n",
        "[cluedin](https://pypi.org/project/cluedin/) is a Python client for [CluedIn](https://www.cluedin.com/) API. It can help you with the following:\n",
        "\n",
        "* getting JWT access tokens to CluedIn\n",
        "* calling CluedIn REST API\n",
        "* calling CluedIn GraphQL API\n",
        "\n",
        "The use is pretty simple. First, install it from [PyPi](https://pypi.org/project/cluedin/):"
      ]
    },
    {
      "cell_type": "code",
      "execution_count": null,
      "metadata": {
        "colab": {
          "base_uri": "https://localhost:8080/"
        },
        "id": "NvHz3dvggQfK",
        "outputId": "96d04b4b-f67f-4aab-d27e-f5a6acd903eb"
      },
      "outputs": [],
      "source": [
        "%pip install cluedin"
      ]
    },
    {
      "attachments": {},
      "cell_type": "markdown",
      "metadata": {
        "id": "mX8mhNtEJsna"
      },
      "source": [
        "Next, you will need to obtain an access token:"
      ]
    },
    {
      "cell_type": "code",
      "execution_count": null,
      "metadata": {
        "colab": {
          "base_uri": "https://localhost:8080/"
        },
        "id": "6Wk8iZdUgaY6",
        "outputId": "66360583-f8ab-4574-95d9-78d77a37d20e"
      },
      "outputs": [],
      "source": [
        "import cluedin\n",
        "context = {\n",
        "    \"protocol\": \"http\", # default - `https`\n",
        "    \"domain\": \"cluedin.local\",\n",
        "    \"organization\": \"foobar\",\n",
        "    \"user\": \"admin@foobar.com\",\n",
        "    \"password\": \"Foobar23!\"\n",
        "}\n",
        "\n",
        "cluedin.load_token_into_context(context)\n",
        "\n",
        "context"
      ]
    },
    {
      "attachments": {},
      "cell_type": "markdown",
      "metadata": {
        "id": "R_dDXilxJ5tM"
      },
      "source": [
        "Run a GraphQL query:"
      ]
    },
    {
      "cell_type": "code",
      "execution_count": null,
      "metadata": {
        "colab": {
          "base_uri": "https://localhost:8080/"
        },
        "id": "ZdTw1D2rJ_vY",
        "outputId": "68cf3c64-90b1-44ce-b930-9b4bf1aead62"
      },
      "outputs": [],
      "source": [
        "query = \"\"\"\n",
        "    query searchEntities($cursor: PagingCursor, $query: String, $pageSize: Int) {\n",
        "      search(query: $query, sort: DATE, cursor: $cursor, pageSize: $pageSize) {\n",
        "        totalResults\n",
        "        cursor\n",
        "        entries {\n",
        "          id\n",
        "          name\n",
        "          entityType\n",
        "        }\n",
        "      }\n",
        "    }\n",
        "\"\"\"\n",
        "\n",
        "variables = {\n",
        "    \"query\": \"entityType:/Infrastructure/User\",\n",
        "    \"pageSize\": 1\n",
        "}\n",
        "\n",
        "response = cluedin.gql.gql(context, query, variables)\n",
        "\n",
        "response"
      ]
    },
    {
      "attachments": {},
      "cell_type": "markdown",
      "metadata": {
        "id": "sZyhbRkSSFWP"
      },
      "source": [
        "Get paged results:"
      ]
    },
    {
      "cell_type": "code",
      "execution_count": null,
      "metadata": {
        "colab": {
          "base_uri": "https://localhost:8080/",
          "height": 488
        },
        "id": "A4rSdHs4KGkQ",
        "outputId": "336bf488-c205-4f9b-e18a-58ccce3a8513"
      },
      "outputs": [],
      "source": [
        "import numpy as np\n",
        "import pandas as pd\n",
        "\n",
        "query = \"\"\"\n",
        "    query searchEntities($cursor: PagingCursor, $query: String, $pageSize: Int) {\n",
        "      search(query: $query, sort: DATE, cursor: $cursor, pageSize: $pageSize) {\n",
        "        totalResults\n",
        "        cursor\n",
        "        entries {\n",
        "          id\n",
        "          name\n",
        "          entityType\n",
        "        }\n",
        "      }\n",
        "    }\n",
        "\"\"\"\n",
        "\n",
        "variables = {\n",
        "    \"query\": \"*\",\n",
        "    \"pageSize\": 5\n",
        "}\n",
        "\n",
        "entries = np.array([x for x in cluedin.gql.entries(context, query, variables)])\n",
        "\n",
        "df = pd.DataFrame(entries.tolist(), columns=list(entries[0].keys()))\n",
        "df"
      ]
    }
  ],
  "metadata": {
    "colab": {
      "provenance": []
    },
    "kernelspec": {
      "display_name": "Python 3",
      "name": "python3"
    },
    "language_info": {
      "name": "python",
      "version": "3.11.3"
    }
  },
  "nbformat": 4,
  "nbformat_minor": 0
}
